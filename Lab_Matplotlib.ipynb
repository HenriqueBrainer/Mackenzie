{
  "nbformat": 4,
  "nbformat_minor": 0,
  "metadata": {
    "celltoolbar": "Edit Metadata",
    "colab": {
      "provenance": [],
      "toc_visible": true,
      "include_colab_link": true
    },
    "kernelspec": {
      "display_name": "Python 3",
      "language": "python",
      "name": "python3"
    },
    "language_info": {
      "codemirror_mode": {
        "name": "ipython",
        "version": 3
      },
      "file_extension": ".py",
      "mimetype": "text/x-python",
      "name": "python",
      "nbconvert_exporter": "python",
      "pygments_lexer": "ipython3",
      "version": "3.6.13"
    }
  },
  "cells": [
    {
      "cell_type": "markdown",
      "metadata": {
        "id": "view-in-github",
        "colab_type": "text"
      },
      "source": [
        "<a href=\"https://colab.research.google.com/github/HenriqueBrainer/Mackenzie/blob/main/Lab_Matplotlib.ipynb\" target=\"_parent\"><img src=\"https://colab.research.google.com/assets/colab-badge.svg\" alt=\"Open In Colab\"/></a>"
      ]
    },
    {
      "cell_type": "markdown",
      "source": [
        "<head>\n",
        "  <meta name=\"author\" content=\"Rogério de Oliveira\">\n",
        "  <meta institution=\"author\" content=\"Universidade Presbiteriana Mackenzie\">\n",
        "</head>\n",
        "\n",
        "<img src=\"http://meusite.mackenzie.br/rogerio/mackenzie_logo/UPM.2_horizontal_vermelho.jpg\" width=300, align=\"right\">\n"
      ],
      "metadata": {
        "id": "38WSrvhYvBmD"
      }
    },
    {
      "cell_type": "markdown",
      "source": [
        "# Lab: Matplotlib\n",
        "\n",
        "Referências e Materiais úteis para este Lab:\n",
        "\n",
        "- Oliveira, R. (2022). [Visualizacao de Dados em Python](https://github.com/Rogerio-mack/Visualizacao-de-Dados-em-Python) ISBN: 978-65-5545-511-3. [Editora Mackenzie](https://www.mackenzie.br/editora/livro/n/a/i/visualizacao-de-dados-com-python), [Amazon](https://www.amazon.com.br/VISUALIZA%C3%87%C3%83O-DADOS-PYTHON-ROGERIO-OLIVEIRA/dp/655545511X) ou [Martins Fontes](https://www.martinsfontespaulista.com.br/visualizacao-de-dados-com-python-997336/p)\n",
        "<p>\n",
        "  <img src=\"https://github.com/Rogerio-mack/Visualizacao-de-Dados-em-Python/raw/main/figuras/capas/1.png\" width=\"40%\" align=\"left\"/>\n",
        "</p>\n",
        "\n",
        "<br>\n",
        "<br>\n",
        "<br>\n",
        "<br>\n",
        "<br>\n",
        "<br>\n",
        "<br>\n",
        "<br>\n",
        "<br>\n",
        "<br>\n",
        "\n",
        "Acesse o capítulo [Gráficos com Matplotlib](http://meusite.mackenzie.br/rogerio/MyBook/_build/html/c2_parte_1.html)\n",
        "\n",
        "<br>\n",
        "\n",
        "Para saber mais:\n",
        "- Veja no livro muito mais sobre o `Matplotlib`.\n",
        "\n",
        "- Você também pode acessar diretamente as bibliotecas do `Matplotlib`\n",
        "\n",
        "  - https://matplotlib.org/\n",
        "\n",
        "  - https://matplotlib.org/stable/tutorials/index.html\n",
        "\n",
        "  - https://matplotlib.org/stable/gallery/index.html\n",
        "\n",
        "\n",
        "---\n",
        "\n"
      ],
      "metadata": {
        "id": "dEyV_GqcqtL1"
      }
    },
    {
      "cell_type": "markdown",
      "source": [
        "# Basic imports"
      ],
      "metadata": {
        "id": "6AsPs0GIlyle"
      }
    },
    {
      "cell_type": "code",
      "metadata": {
        "id": "jf4DkEBpGdr4"
      },
      "source": [
        "import numpy as np\n",
        "import pandas as pd\n",
        "import matplotlib.pyplot as plt\n",
        "%matplotlib inline\n",
        "import seaborn as sns\n"
      ],
      "execution_count": 11,
      "outputs": []
    },
    {
      "cell_type": "markdown",
      "source": [
        "# Exercício 1\n",
        "\n",
        "Produza um gráfico de linha para uma função matemática de sua escolha.\n",
        "\n",
        "1. Inclua um título com a função\n",
        "2. Altere a cor e o estilo de linha do gráfico\n",
        "3. Altere o tamanho da figura\n",
        "4. Inclua rótulos para os eixos do gráfico"
      ],
      "metadata": {
        "id": "MF2is9EII04t"
      }
    },
    {
      "cell_type": "code",
      "source": [
        "import numpy as np\n",
        "import pandas as pd\n",
        "import matplotlib.pyplot as plt\n",
        "%matplotlib inline\n",
        "import seaborn as sns\n",
        "\n",
        "def f(x):\n",
        "  return x**2 + 1\n",
        "\n",
        "x = np.arange(0,10,1) # o mesmo que x = np.array([0,1,2,3,4,5,6,7,8,9])\n",
        "y = f(x)\n",
        "\n",
        "plt.plot(x ,y, label='Gastos', linestyle='dashed', color='purple')\n",
        "plt.plot(x ,y*2, label='Gastos', color='cyan')\n",
        "plt.legend()\n",
        "plt.xlabel('Eixo x')\n",
        "plt.ylabel('Eixo y')\n",
        "plt.title(\"Ex 1\")\n",
        "plt.show()\n"
      ],
      "metadata": {
        "id": "zQzqOqL0I0Ju",
        "outputId": "f5b19ef4-5a67-44f6-c784-c61acab9dd49",
        "colab": {
          "base_uri": "https://localhost:8080/",
          "height": 472
        }
      },
      "execution_count": 16,
      "outputs": [
        {
          "output_type": "display_data",
          "data": {
            "text/plain": [
              "<Figure size 640x480 with 1 Axes>"
            ],
            "image/png": "[encoded data removed]"
          },
          "metadata": {}
        }
      ]
    },
    {
      "cell_type": "markdown",
      "source": [
        "# Exercício 2\n",
        "\n",
        "O código abaixo retorna os `day_before` valores do bitcoin US anteriores a data `last_date`. Você pode alterar o ativo, a data e o número de dias para obter outros dados."
      ],
      "metadata": {
        "id": "YkriF6-aKVWx"
      }
    },
    {
      "cell_type": "code",
      "source": [
        "#@markdown install yahoofinancials\n",
        "%%capture\n",
        "!pip install yfinance\n",
        "!pip install yahoofinancials"
      ],
      "metadata": {
        "id": "du86XS6HFoqN",
        "cellView": "form"
      },
      "execution_count": null,
      "outputs": []
    },
    {
      "cell_type": "code",
      "source": [
        "stock_name = 'BTC-USD'\n",
        "last_date = \"2023-02-22\"\n",
        "days_before = 30"
      ],
      "metadata": {
        "id": "aDAbSIhNKRmI"
      },
      "execution_count": null,
      "outputs": []
    },
    {
      "cell_type": "code",
      "source": [
        "#@markdown get stock data\n",
        "from yahoofinancials import YahooFinancials\n",
        "from datetime import datetime, timedelta\n",
        "\n",
        "yahoo_financials = YahooFinancials(stock_name)\n",
        "\n",
        "last_date_days_before = datetime.strptime(last_date, '%Y-%m-%d') + timedelta(days=- days_before - 1)\n",
        "last_date_days_before = datetime.strftime(last_date_days_before, '%Y-%m-%d')\n",
        "print(stock_name, ' from ', last_date_days_before, ' to ', last_date)\n",
        "print()\n",
        "\n",
        "data = yahoo_financials.get_historical_price_data(last_date_days_before, last_date, \"daily\")\n",
        "df = pd.DataFrame(data[stock_name]['prices'])\n",
        "\n",
        "df = df.fillna(0)\n",
        "\n",
        "display(df.head())\n",
        "print()\n",
        "\n",
        "for c in df.columns[1:-1]:\n",
        "  exec(c + '_' + stock_name.replace('-','').replace('.','') + ' = np.array( np.round( df[ \"' + c + '\" ],2 ))')\n",
        "  exec('print( \"' + c + '_' + stock_name.replace('-','').replace('.','') + ' = \", ' + c + '_' + stock_name.replace('-','').replace('.','') + ' )')\n",
        "  print()"
      ],
      "metadata": {
        "colab": {
          "base_uri": "https://localhost:8080/",
          "height": 882
        },
        "id": "KlSL5rq4FfQ0",
        "outputId": "c1a800f7-497f-4473-97e5-e6664ec9b19b"
      },
      "execution_count": null,
      "outputs": [
        {
          "output_type": "stream",
          "name": "stdout",
          "text": [
            "BTC-USD  from  2023-01-22  to  2023-02-22\n",
            "\n"
          ]
        },
        {
          "output_type": "display_data",
          "data": {
            "text/plain": [
              "         date          high           low          open         close  \\\n",
              "0  1674345600  23056.730469  22387.900391  22777.986328  22720.416016   \n",
              "1  1674432000  23126.486328  22654.304688  22721.087891  22934.431641   \n",
              "2  1674518400  23134.011719  22549.744141  22929.626953  22636.468750   \n",
              "3  1674604800  23722.099609  22406.076172  22639.267578  23117.859375   \n",
              "4  1674691200  23237.078125  22911.373047  23108.955078  23032.777344   \n",
              "\n",
              "         volume      adjclose formatted_date  \n",
              "0  2.474639e+10  22720.416016     2023-01-22  \n",
              "1  2.651870e+10  22934.431641     2023-01-23  \n",
              "2  2.640507e+10  22636.468750     2023-01-24  \n",
              "3  3.068537e+10  23117.859375     2023-01-25  \n",
              "4  2.635784e+10  23032.777344     2023-01-26  "
            ],
            "text/html": [
              "\n",
              "  <div id=\"df-bb6fdc06-da45-44fe-83fa-948bba6931f7\">\n",
              "    <div class=\"colab-df-container\">\n",
              "      <div>\n",
              "<style scoped>\n",
              "    .dataframe tbody tr th:only-of-type {\n",
              "        vertical-align: middle;\n",
              "    }\n",
              "\n",
              "    .dataframe tbody tr th {\n",
              "        vertical-align: top;\n",
              "    }\n",
              "\n",
              "    .dataframe thead th {\n",
              "        text-align: right;\n",
              "    }\n",
              "</style>\n",
              "<table border=\"1\" class=\"dataframe\">\n",
              "  <thead>\n",
              "    <tr style=\"text-align: right;\">\n",
              "      <th></th>\n",
              "      <th>date</th>\n",
              "      <th>high</th>\n",
              "      <th>low</th>\n",
              "      <th>open</th>\n",
              "      <th>close</th>\n",
              "      <th>volume</th>\n",
              "      <th>adjclose</th>\n",
              "      <th>formatted_date</th>\n",
              "    </tr>\n",
              "  </thead>\n",
              "  <tbody>\n",
              "    <tr>\n",
              "      <th>0</th>\n",
              "      <td>1674345600</td>\n",
              "      <td>23056.730469</td>\n",
              "      <td>22387.900391</td>\n",
              "      <td>22777.986328</td>\n",
              "      <td>22720.416016</td>\n",
              "      <td>2.474639e+10</td>\n",
              "      <td>22720.416016</td>\n",
              "      <td>2023-01-22</td>\n",
              "    </tr>\n",
              "    <tr>\n",
              "      <th>1</th>\n",
              "      <td>1674432000</td>\n",
              "      <td>23126.486328</td>\n",
              "      <td>22654.304688</td>\n",
              "      <td>22721.087891</td>\n",
              "      <td>22934.431641</td>\n",
              "      <td>2.651870e+10</td>\n",
              "      <td>22934.431641</td>\n",
              "      <td>2023-01-23</td>\n",
              "    </tr>\n",
              "    <tr>\n",
              "      <th>2</th>\n",
              "      <td>1674518400</td>\n",
              "      <td>23134.011719</td>\n",
              "      <td>22549.744141</td>\n",
              "      <td>22929.626953</td>\n",
              "      <td>22636.468750</td>\n",
              "      <td>2.640507e+10</td>\n",
              "      <td>22636.468750</td>\n",
              "      <td>2023-01-24</td>\n",
              "    </tr>\n",
              "    <tr>\n",
              "      <th>3</th>\n",
              "      <td>1674604800</td>\n",
              "      <td>23722.099609</td>\n",
              "      <td>22406.076172</td>\n",
              "      <td>22639.267578</td>\n",
              "      <td>23117.859375</td>\n",
              "      <td>3.068537e+10</td>\n",
              "      <td>23117.859375</td>\n",
              "      <td>2023-01-25</td>\n",
              "    </tr>\n",
              "    <tr>\n",
              "      <th>4</th>\n",
              "      <td>1674691200</td>\n",
              "      <td>23237.078125</td>\n",
              "      <td>22911.373047</td>\n",
              "      <td>23108.955078</td>\n",
              "      <td>23032.777344</td>\n",
              "      <td>2.635784e+10</td>\n",
              "      <td>23032.777344</td>\n",
              "      <td>2023-01-26</td>\n",
              "    </tr>\n",
              "  </tbody>\n",
              "</table>\n",
              "</div>\n",
              "      <button class=\"colab-df-convert\" onclick=\"convertToInteractive('df-bb6fdc06-da45-44fe-83fa-948bba6931f7')\"\n",
              "              title=\"Convert this dataframe to an interactive table.\"\n",
              "              style=\"display:none;\">\n",
              "        \n",
              "  <svg xmlns=\"http://www.w3.org/2000/svg\" height=\"24px\"viewBox=\"0 0 24 24\"\n",
              "       width=\"24px\">\n",
              "    <path d=\"M0 0h24v24H0V0z\" fill=\"none\"/>\n",
              "    <path d=\"M18.56 5.44l.94 2.06.94-2.06 2.06-.94-2.06-.94-.94-2.06-.94 2.06-2.06.94zm-11 1L8.5 8.5l.94-2.06 2.06-.94-2.06-.94L8.5 2.5l-.94 2.06-2.06.94zm10 10l.94 2.06.94-2.06 2.06-.94-2.06-.94-.94-2.06-.94 2.06-2.06.94z\"/><path d=\"M17.41 7.96l-1.37-1.37c-.4-.4-.92-.59-1.43-.59-.52 0-1.04.2-1.43.59L10.3 9.45l-7.72 7.72c-.78.78-.78 2.05 0 2.83L4 21.41c.39.39.9.59 1.41.59.51 0 1.02-.2 1.41-.59l7.78-7.78 2.81-2.81c.8-.78.8-2.07 0-2.86zM5.41 20L4 18.59l7.72-7.72 1.47 1.35L5.41 20z\"/>\n",
              "  </svg>\n",
              "      </button>\n",
              "      \n",
              "  <style>\n",
              "    .colab-df-container {\n",
              "      display:flex;\n",
              "      flex-wrap:wrap;\n",
              "      gap: 12px;\n",
              "    }\n",
              "\n",
              "    .colab-df-convert {\n",
              "      background-color: #E8F0FE;\n",
              "      border: none;\n",
              "      border-radius: 50%;\n",
              "      cursor: pointer;\n",
              "      display: none;\n",
              "      fill: #1967D2;\n",
              "      height: 32px;\n",
              "      padding: 0 0 0 0;\n",
              "      width: 32px;\n",
              "    }\n",
              "\n",
              "    .colab-df-convert:hover {\n",
              "      background-color: #E2EBFA;\n",
              "      box-shadow: 0px 1px 2px rgba(60, 64, 67, 0.3), 0px 1px 3px 1px rgba(60, 64, 67, 0.15);\n",
              "      fill: #174EA6;\n",
              "    }\n",
              "\n",
              "    [theme=dark] .colab-df-convert {\n",
              "      background-color: #3B4455;\n",
              "      fill: #D2E3FC;\n",
              "    }\n",
              "\n",
              "    [theme=dark] .colab-df-convert:hover {\n",
              "      background-color: #434B5C;\n",
              "      box-shadow: 0px 1px 3px 1px rgba(0, 0, 0, 0.15);\n",
              "      filter: drop-shadow(0px 1px 2px rgba(0, 0, 0, 0.3));\n",
              "      fill: #FFFFFF;\n",
              "    }\n",
              "  </style>\n",
              "\n",
              "      <script>\n",
              "        const buttonEl =\n",
              "          document.querySelector('#df-bb6fdc06-da45-44fe-83fa-948bba6931f7 button.colab-df-convert');\n",
              "        buttonEl.style.display =\n",
              "          google.colab.kernel.accessAllowed ? 'block' : 'none';\n",
              "\n",
              "        async function convertToInteractive(key) {\n",
              "          const element = document.querySelector('#df-bb6fdc06-da45-44fe-83fa-948bba6931f7');\n",
              "          const dataTable =\n",
              "            await google.colab.kernel.invokeFunction('convertToInteractive',\n",
              "                                                     [key], {});\n",
              "          if (!dataTable) return;\n",
              "\n",
              "          const docLinkHtml = 'Like what you see? Visit the ' +\n",
              "            '<a target=\"_blank\" href=https://colab.research.google.com/notebooks/data_table.ipynb>data table notebook</a>'\n",
              "            + ' to learn more about interactive tables.';\n",
              "          element.innerHTML = '';\n",
              "          dataTable['output_type'] = 'display_data';\n",
              "          await google.colab.output.renderOutput(dataTable, element);\n",
              "          const docLink = document.createElement('div');\n",
              "          docLink.innerHTML = docLinkHtml;\n",
              "          element.appendChild(docLink);\n",
              "        }\n",
              "      </script>\n",
              "    </div>\n",
              "  </div>\n",
              "  "
            ]
          },
          "metadata": {}
        },
        {
          "output_type": "stream",
          "name": "stdout",
          "text": [
            "\n",
            "high_BTCUSD =  [23056.73 23126.49 23134.01 23722.1  23237.08 23417.72 23165.9  23919.89\n",
            " 23789.35 23225.02 23764.54 24167.21 23678.1  23556.95 23423.44 23119.28\n",
            " 23310.97 23367.96 22996.44 21941.19 21891.41 22060.99 21898.41 22293.14\n",
            " 24307.84 25134.12 24924.04 24798.84 25093.05 25020.46 25126.85     0.  ]\n",
            "\n",
            "low_BTCUSD =  [22387.9  22654.3  22549.74 22406.08 22911.37 22654.59 22908.85 22985.07\n",
            " 22657.58 22765.57 22877.75 23468.6  23279.96 23291.79 22841.76 22692.03\n",
            " 22756.26 22731.1  21773.97 21539.39 21618.45 21682.83 21460.09 21632.39\n",
            " 22082.77 23602.52 23460.76 24468.37 24327.64 23927.91 24200.36     0.  ]\n",
            "\n",
            "open_BTCUSD =  [22777.99 22721.09 22929.63 22639.27 23108.96 23030.72 23079.96 23031.45\n",
            " 23774.65 22840.8  23137.84 23720.82 23469.41 23446.32 23332.25 22954.02\n",
            " 22757.27 23263.42 22946.57 21819.01 21651.84 21870.9  21787.   21801.82\n",
            " 22220.59 24307.35 23621.28 24565.3  24640.03 24336.62 24833.05     0.  ]\n",
            "\n",
            "close_BTCUSD =  [22720.42 22934.43 22636.47 23117.86 23032.78 23078.73 23031.09 23774.57\n",
            " 22840.14 23139.28 23723.77 23471.87 23449.32 23331.85 22955.67 22760.11\n",
            " 23264.29 22939.4  21819.04 21651.18 21870.88 21788.2  21808.1  22220.8\n",
            " 24307.84 23623.47 24565.6  24641.28 24327.64 24829.15 24436.35     0.  ]\n",
            "\n",
            "volume_BTCUSD =  [2.47463862e+10 2.65187005e+10 2.64050697e+10 3.06853667e+10\n",
            " 2.63578393e+10 2.53833356e+10 1.47129284e+10 2.74236873e+10\n",
            " 2.72055956e+10 2.28378287e+10 2.66832555e+10 3.20669369e+10\n",
            " 2.70830660e+10 1.56392985e+10 1.95642626e+10 2.38250065e+10\n",
            " 2.71879645e+10 2.53713678e+10 3.25725722e+10 2.70784066e+10\n",
            " 1.63562262e+10 1.78210464e+10 2.39187426e+10 2.67925966e+10\n",
            " 3.24833129e+10 3.93166646e+10 4.13584513e+10 1.96254272e+10\n",
            " 2.55551057e+10 2.89873766e+10 3.12520987e+10 0.00000000e+00]\n",
            "\n",
            "adjclose_BTCUSD =  [22720.42 22934.43 22636.47 23117.86 23032.78 23078.73 23031.09 23774.57\n",
            " 22840.14 23139.28 23723.77 23471.87 23449.32 23331.85 22955.67 22760.11\n",
            " 23264.29 22939.4  21819.04 21651.18 21870.88 21788.2  21808.1  22220.8\n",
            " 24307.84 23623.47 24565.6  24641.28 24327.64 24829.15 24436.35     0.  ]\n",
            "\n"
          ]
        }
      ]
    },
    {
      "cell_type": "markdown",
      "source": [
        "a) Escolha um ativo, uma data e um número de dias de sua preferência e faça um gráfico dos valores `adjclose`, `high` e `low`, adicionando rótulos, cores e estilo de linha diferentes para cada valor. Não esqueça de adicionar título ao gráfico, eixos e empregar um tamanho adequado para a figura.\n",
        "\n",
        "Para consulta de ativos no Yahoo Finance, pesquise em: https://ca.finance.yahoo.com/lookup\n",
        "\n",
        "b) Inclua agora, no gráfico anterior, o valor de volume. O que aconteceu? Que solução você daria para isso?\n",
        "\n"
      ],
      "metadata": {
        "id": "OfzrHJ_QLprh"
      }
    }
  ]
}